{
  "nbformat": 4,
  "nbformat_minor": 0,
  "metadata": {
    "colab": {
      "name": "Apple-Stock-Forecasting.ipynb",
      "provenance": [],
      "authorship_tag": "ABX9TyOY+63YUCD/CcdHw45JRctw",
      "include_colab_link": true
    },
    "kernelspec": {
      "name": "python3",
      "display_name": "Python 3"
    },
    "language_info": {
      "name": "python"
    },
    "accelerator": "GPU"
  },
  "cells": [
    {
      "cell_type": "markdown",
      "metadata": {
        "id": "view-in-github",
        "colab_type": "text"
      },
      "source": [
        "<a href=\"https://colab.research.google.com/github/parthkohli92/Stock-Forecasting-Analysis/blob/main/Apple_Stock_Forecasting.ipynb\" target=\"_parent\"><img src=\"https://colab.research.google.com/assets/colab-badge.svg\" alt=\"Open In Colab\"/></a>"
      ]
    },
    {
      "cell_type": "code",
      "metadata": {
        "id": "_SAPGmxGtOBa"
      },
      "source": [
        "import numpy as np \n",
        "import pandas as pd"
      ],
      "execution_count": 3,
      "outputs": []
    },
    {
      "cell_type": "code",
      "metadata": {
        "colab": {
          "base_uri": "https://localhost:8080/",
          "height": 238
        },
        "id": "qI9V55wCtU-B",
        "outputId": "e5b5f9e4-018c-425c-8c5f-0bedf04b489a"
      },
      "source": [
        "df = pd.read_csv('AAPL_2006-01-01_to_2018-01-01.csv', index_col='Date', parse_dates=True)\n",
        "df.head()"
      ],
      "execution_count": 4,
      "outputs": [
        {
          "output_type": "execute_result",
          "data": {
            "text/html": [
              "<div>\n",
              "<style scoped>\n",
              "    .dataframe tbody tr th:only-of-type {\n",
              "        vertical-align: middle;\n",
              "    }\n",
              "\n",
              "    .dataframe tbody tr th {\n",
              "        vertical-align: top;\n",
              "    }\n",
              "\n",
              "    .dataframe thead th {\n",
              "        text-align: right;\n",
              "    }\n",
              "</style>\n",
              "<table border=\"1\" class=\"dataframe\">\n",
              "  <thead>\n",
              "    <tr style=\"text-align: right;\">\n",
              "      <th></th>\n",
              "      <th>Open</th>\n",
              "      <th>High</th>\n",
              "      <th>Low</th>\n",
              "      <th>Close</th>\n",
              "      <th>Volume</th>\n",
              "      <th>Name</th>\n",
              "    </tr>\n",
              "    <tr>\n",
              "      <th>Date</th>\n",
              "      <th></th>\n",
              "      <th></th>\n",
              "      <th></th>\n",
              "      <th></th>\n",
              "      <th></th>\n",
              "      <th></th>\n",
              "    </tr>\n",
              "  </thead>\n",
              "  <tbody>\n",
              "    <tr>\n",
              "      <th>2006-01-03</th>\n",
              "      <td>10.34</td>\n",
              "      <td>10.68</td>\n",
              "      <td>10.32</td>\n",
              "      <td>10.68</td>\n",
              "      <td>201853036</td>\n",
              "      <td>AAPL</td>\n",
              "    </tr>\n",
              "    <tr>\n",
              "      <th>2006-01-04</th>\n",
              "      <td>10.73</td>\n",
              "      <td>10.85</td>\n",
              "      <td>10.64</td>\n",
              "      <td>10.71</td>\n",
              "      <td>155225609</td>\n",
              "      <td>AAPL</td>\n",
              "    </tr>\n",
              "    <tr>\n",
              "      <th>2006-01-05</th>\n",
              "      <td>10.69</td>\n",
              "      <td>10.70</td>\n",
              "      <td>10.54</td>\n",
              "      <td>10.63</td>\n",
              "      <td>112396081</td>\n",
              "      <td>AAPL</td>\n",
              "    </tr>\n",
              "    <tr>\n",
              "      <th>2006-01-06</th>\n",
              "      <td>10.75</td>\n",
              "      <td>10.96</td>\n",
              "      <td>10.65</td>\n",
              "      <td>10.90</td>\n",
              "      <td>176139334</td>\n",
              "      <td>AAPL</td>\n",
              "    </tr>\n",
              "    <tr>\n",
              "      <th>2006-01-09</th>\n",
              "      <td>10.96</td>\n",
              "      <td>11.03</td>\n",
              "      <td>10.82</td>\n",
              "      <td>10.86</td>\n",
              "      <td>168861224</td>\n",
              "      <td>AAPL</td>\n",
              "    </tr>\n",
              "  </tbody>\n",
              "</table>\n",
              "</div>"
            ],
            "text/plain": [
              "             Open   High    Low  Close     Volume  Name\n",
              "Date                                                   \n",
              "2006-01-03  10.34  10.68  10.32  10.68  201853036  AAPL\n",
              "2006-01-04  10.73  10.85  10.64  10.71  155225609  AAPL\n",
              "2006-01-05  10.69  10.70  10.54  10.63  112396081  AAPL\n",
              "2006-01-06  10.75  10.96  10.65  10.90  176139334  AAPL\n",
              "2006-01-09  10.96  11.03  10.82  10.86  168861224  AAPL"
            ]
          },
          "metadata": {},
          "execution_count": 4
        }
      ]
    },
    {
      "cell_type": "code",
      "metadata": {
        "id": "ME-OGWtJtin9"
      },
      "source": [
        "df= df.drop(['High','Low','Volume','Name'],axis=1)"
      ],
      "execution_count": 5,
      "outputs": []
    },
    {
      "cell_type": "code",
      "metadata": {
        "colab": {
          "base_uri": "https://localhost:8080/",
          "height": 394
        },
        "id": "lRS6HsJ5tlFG",
        "outputId": "ff5c9c0a-6616-47e5-f9c1-0d847203e281"
      },
      "source": [
        "df.head(10)"
      ],
      "execution_count": 6,
      "outputs": [
        {
          "output_type": "execute_result",
          "data": {
            "text/html": [
              "<div>\n",
              "<style scoped>\n",
              "    .dataframe tbody tr th:only-of-type {\n",
              "        vertical-align: middle;\n",
              "    }\n",
              "\n",
              "    .dataframe tbody tr th {\n",
              "        vertical-align: top;\n",
              "    }\n",
              "\n",
              "    .dataframe thead th {\n",
              "        text-align: right;\n",
              "    }\n",
              "</style>\n",
              "<table border=\"1\" class=\"dataframe\">\n",
              "  <thead>\n",
              "    <tr style=\"text-align: right;\">\n",
              "      <th></th>\n",
              "      <th>Open</th>\n",
              "      <th>Close</th>\n",
              "    </tr>\n",
              "    <tr>\n",
              "      <th>Date</th>\n",
              "      <th></th>\n",
              "      <th></th>\n",
              "    </tr>\n",
              "  </thead>\n",
              "  <tbody>\n",
              "    <tr>\n",
              "      <th>2006-01-03</th>\n",
              "      <td>10.34</td>\n",
              "      <td>10.68</td>\n",
              "    </tr>\n",
              "    <tr>\n",
              "      <th>2006-01-04</th>\n",
              "      <td>10.73</td>\n",
              "      <td>10.71</td>\n",
              "    </tr>\n",
              "    <tr>\n",
              "      <th>2006-01-05</th>\n",
              "      <td>10.69</td>\n",
              "      <td>10.63</td>\n",
              "    </tr>\n",
              "    <tr>\n",
              "      <th>2006-01-06</th>\n",
              "      <td>10.75</td>\n",
              "      <td>10.90</td>\n",
              "    </tr>\n",
              "    <tr>\n",
              "      <th>2006-01-09</th>\n",
              "      <td>10.96</td>\n",
              "      <td>10.86</td>\n",
              "    </tr>\n",
              "    <tr>\n",
              "      <th>2006-01-10</th>\n",
              "      <td>10.89</td>\n",
              "      <td>11.55</td>\n",
              "    </tr>\n",
              "    <tr>\n",
              "      <th>2006-01-11</th>\n",
              "      <td>11.98</td>\n",
              "      <td>11.99</td>\n",
              "    </tr>\n",
              "    <tr>\n",
              "      <th>2006-01-12</th>\n",
              "      <td>12.14</td>\n",
              "      <td>12.04</td>\n",
              "    </tr>\n",
              "    <tr>\n",
              "      <th>2006-01-13</th>\n",
              "      <td>12.14</td>\n",
              "      <td>12.23</td>\n",
              "    </tr>\n",
              "    <tr>\n",
              "      <th>2006-01-17</th>\n",
              "      <td>12.24</td>\n",
              "      <td>12.10</td>\n",
              "    </tr>\n",
              "  </tbody>\n",
              "</table>\n",
              "</div>"
            ],
            "text/plain": [
              "             Open  Close\n",
              "Date                    \n",
              "2006-01-03  10.34  10.68\n",
              "2006-01-04  10.73  10.71\n",
              "2006-01-05  10.69  10.63\n",
              "2006-01-06  10.75  10.90\n",
              "2006-01-09  10.96  10.86\n",
              "2006-01-10  10.89  11.55\n",
              "2006-01-11  11.98  11.99\n",
              "2006-01-12  12.14  12.04\n",
              "2006-01-13  12.14  12.23\n",
              "2006-01-17  12.24  12.10"
            ]
          },
          "metadata": {},
          "execution_count": 6
        }
      ]
    },
    {
      "cell_type": "code",
      "metadata": {
        "id": "NV--xWELtzrY"
      },
      "source": [
        "df = df.drop(['Open'],axis=1)"
      ],
      "execution_count": 7,
      "outputs": []
    },
    {
      "cell_type": "code",
      "metadata": {
        "id": "Wfy4BNcZtn5j"
      },
      "source": [
        "import matplotlib.pyplot as plt\n",
        "%matplotlib inline"
      ],
      "execution_count": 8,
      "outputs": []
    },
    {
      "cell_type": "code",
      "metadata": {
        "colab": {
          "base_uri": "https://localhost:8080/",
          "height": 482
        },
        "id": "V5P_bLo6tp30",
        "outputId": "a6c50fe0-b69d-4dc8-cbaf-8d2b1135d9f5"
      },
      "source": [
        "df.columns = ['Close']\n",
        "df.plot(figsize=(12,8))"
      ],
      "execution_count": 9,
      "outputs": [
        {
          "output_type": "execute_result",
          "data": {
            "text/plain": [
              "<matplotlib.axes._subplots.AxesSubplot at 0x7f6a4a7923d0>"
            ]
          },
          "metadata": {},
          "execution_count": 9
        },
        {
          "output_type": "display_data",
          "data": {
            "image/png": "[encoded data removed]",
            "text/plain": [
              "<Figure size 864x576 with 1 Axes>"
            ]
          },
          "metadata": {
            "needs_background": "light"
          }
        }
      ]
    },
    {
      "cell_type": "code",
      "metadata": {
        "colab": {
          "base_uri": "https://localhost:8080/"
        },
        "id": "UyUf5hvTtuqP",
        "outputId": "4201d704-3be8-4a5c-b26e-71ad7bbd6077"
      },
      "source": [
        "len(df)"
      ],
      "execution_count": 10,
      "outputs": [
        {
          "output_type": "execute_result",
          "data": {
            "text/plain": [
              "3019"
            ]
          },
          "metadata": {},
          "execution_count": 10
        }
      ]
    },
    {
      "cell_type": "code",
      "metadata": {
        "id": "IzmXVroxt9KE"
      },
      "source": [
        "train = df.iloc[:3007]\n",
        "test = df.iloc[3007:]"
      ],
      "execution_count": 11,
      "outputs": []
    },
    {
      "cell_type": "code",
      "metadata": {
        "id": "kUpQq5nPt-tk"
      },
      "source": [
        "from sklearn.preprocessing import MinMaxScaler\n",
        "scaler = MinMaxScaler()"
      ],
      "execution_count": 12,
      "outputs": []
    },
    {
      "cell_type": "code",
      "metadata": {
        "colab": {
          "base_uri": "https://localhost:8080/"
        },
        "id": "uPR50rdFuAEv",
        "outputId": "12f9f35e-ac87-47e6-b6f1-2ba5e9b9c5c6"
      },
      "source": [
        "df.head(), df.tail()"
      ],
      "execution_count": 13,
      "outputs": [
        {
          "output_type": "execute_result",
          "data": {
            "text/plain": [
              "(            Close\n",
              " Date             \n",
              " 2006-01-03  10.68\n",
              " 2006-01-04  10.71\n",
              " 2006-01-05  10.63\n",
              " 2006-01-06  10.90\n",
              " 2006-01-09  10.86,              Close\n",
              " Date              \n",
              " 2017-12-22  175.01\n",
              " 2017-12-26  170.57\n",
              " 2017-12-27  170.60\n",
              " 2017-12-28  171.08\n",
              " 2017-12-29  169.23)"
            ]
          },
          "metadata": {},
          "execution_count": 13
        }
      ]
    },
    {
      "cell_type": "code",
      "metadata": {
        "id": "CU4-VqfduB3t"
      },
      "source": [
        "scaler.fit(train)\n",
        "scaled_train = scaler.transform(train)\n",
        "scaled_test = scaler.transform(test)"
      ],
      "execution_count": 14,
      "outputs": []
    },
    {
      "cell_type": "code",
      "metadata": {
        "colab": {
          "base_uri": "https://localhost:8080/"
        },
        "id": "mOeHHlo1uD8L",
        "outputId": "9c2b9f37-c4ad-4e53-802b-26188a8761ef"
      },
      "source": [
        "scaled_train[:10]"
      ],
      "execution_count": 15,
      "outputs": [
        {
          "output_type": "execute_result",
          "data": {
            "text/plain": [
              "array([[0.02035503],\n",
              "       [0.02053254],\n",
              "       [0.02005917],\n",
              "       [0.0216568 ],\n",
              "       [0.02142012],\n",
              "       [0.02550296],\n",
              "       [0.02810651],\n",
              "       [0.02840237],\n",
              "       [0.02952663],\n",
              "       [0.0287574 ]])"
            ]
          },
          "metadata": {},
          "execution_count": 15
        }
      ]
    },
    {
      "cell_type": "code",
      "metadata": {
        "id": "i_mh7c4cuFny"
      },
      "source": [
        "from keras.preprocessing.sequence import TimeseriesGenerator"
      ],
      "execution_count": 16,
      "outputs": []
    },
    {
      "cell_type": "code",
      "metadata": {
        "id": "8L36cvVOuHyZ"
      },
      "source": [
        "# Define generator \n",
        "n_input = 3 \n",
        "n_features = 1\n",
        "generator = TimeseriesGenerator(scaled_train, scaled_train,length=n_input, batch_size=1)"
      ],
      "execution_count": 17,
      "outputs": []
    },
    {
      "cell_type": "code",
      "metadata": {
        "colab": {
          "base_uri": "https://localhost:8080/"
        },
        "id": "nSPjAF_FuMiw",
        "outputId": "daf295d5-414a-4339-a485-544b4242495e"
      },
      "source": [
        "print(len(scaled_train),len(generator))"
      ],
      "execution_count": 18,
      "outputs": [
        {
          "output_type": "stream",
          "name": "stdout",
          "text": [
            "3007 3004\n"
          ]
        }
      ]
    },
    {
      "cell_type": "code",
      "metadata": {
        "colab": {
          "base_uri": "https://localhost:8080/"
        },
        "id": "K3UCo3w0uOlq",
        "outputId": "1909485d-272b-4127-c81a-905bd3cc4784"
      },
      "source": [
        "X, y=generator[1]\n",
        "print(f'Given the Array: \\n{X.flatten()}')\n",
        "print(f'Predict this y: \\n {y}')"
      ],
      "execution_count": 19,
      "outputs": [
        {
          "output_type": "stream",
          "name": "stdout",
          "text": [
            "Given the Array: \n",
            "[0.02053254 0.02005917 0.0216568 ]\n",
            "Predict this y: \n",
            " [[0.02142012]]\n"
          ]
        }
      ]
    },
    {
      "cell_type": "code",
      "metadata": {
        "colab": {
          "base_uri": "https://localhost:8080/"
        },
        "id": "_VJawWjhuP6A",
        "outputId": "b7aa16a2-46f8-4e72-b7ca-0c06d5b88430"
      },
      "source": [
        "X, y=generator[2]\n",
        "print(f'Given the Array: \\n{X.flatten()}')\n",
        "print(f'Predict this y: \\n {y}')"
      ],
      "execution_count": 20,
      "outputs": [
        {
          "output_type": "stream",
          "name": "stdout",
          "text": [
            "Given the Array: \n",
            "[0.02005917 0.0216568  0.02142012]\n",
            "Predict this y: \n",
            " [[0.02550296]]\n"
          ]
        }
      ]
    },
    {
      "cell_type": "code",
      "metadata": {
        "id": "ZvrDNP-puSuO"
      },
      "source": [
        "# we do the same thing but now for 12months\n",
        "n_input = 12\n",
        "generator = TimeseriesGenerator(scaled_train, scaled_train,length=n_input, batch_size=1)"
      ],
      "execution_count": 21,
      "outputs": []
    },
    {
      "cell_type": "code",
      "metadata": {
        "id": "9uDasqunuWij"
      },
      "source": [
        "from keras.models import Sequential\n",
        "from keras.layers import Dense\n",
        "from keras.layers import LSTM"
      ],
      "execution_count": 22,
      "outputs": []
    },
    {
      "cell_type": "code",
      "metadata": {
        "colab": {
          "base_uri": "https://localhost:8080/"
        },
        "id": "NZenEQa0uYh7",
        "outputId": "0768390b-6f8d-4676-b87f-a6ab7d9054bf"
      },
      "source": [
        "# Making model \n",
        "model = Sequential()\n",
        "model.add(LSTM(100, activation='relu', input_shape=(n_input,n_features)))\n",
        "model.add(Dense(1))"
      ],
      "execution_count": 23,
      "outputs": [
        {
          "output_type": "stream",
          "name": "stdout",
          "text": [
            "WARNING:tensorflow:Layer lstm will not use cuDNN kernels since it doesn't meet the criteria. It will use a generic GPU kernel as fallback when running on GPU.\n"
          ]
        }
      ]
    },
    {
      "cell_type": "code",
      "metadata": {
        "colab": {
          "base_uri": "https://localhost:8080/"
        },
        "id": "ocSpk_nauaRM",
        "outputId": "65d9ab8f-8864-4cac-ca50-371c3b820fdf"
      },
      "source": [
        "model.summary()"
      ],
      "execution_count": 24,
      "outputs": [
        {
          "output_type": "stream",
          "name": "stdout",
          "text": [
            "Model: \"sequential\"\n",
            "_________________________________________________________________\n",
            " Layer (type)                Output Shape              Param #   \n",
            "=================================================================\n",
            " lstm (LSTM)                 (None, 100)               40800     \n",
            "                                                                 \n",
            " dense (Dense)               (None, 1)                 101       \n",
            "                                                                 \n",
            "=================================================================\n",
            "Total params: 40,901\n",
            "Trainable params: 40,901\n",
            "Non-trainable params: 0\n",
            "_________________________________________________________________\n"
          ]
        }
      ]
    },
    {
      "cell_type": "code",
      "metadata": {
        "id": "7Bnud6tfuw37"
      },
      "source": [
        "model.compile(optimizer='adam',loss='mse')"
      ],
      "execution_count": 25,
      "outputs": []
    },
    {
      "cell_type": "code",
      "metadata": {
        "colab": {
          "base_uri": "https://localhost:8080/"
        },
        "id": "liSRlWjGu5Su",
        "outputId": "4ae8eaf4-15c9-4bd8-e8c9-3fa55f815343"
      },
      "source": [
        "# fitting the model \n",
        "model.fit(generator, epochs=50)"
      ],
      "execution_count": 26,
      "outputs": [
        {
          "output_type": "stream",
          "name": "stdout",
          "text": [
            "Epoch 1/50\n",
            "2995/2995 [==============================] - 107s 35ms/step - loss: 0.0013\n",
            "Epoch 2/50\n",
            "2995/2995 [==============================] - 103s 34ms/step - loss: 2.8184e-04\n",
            "Epoch 3/50\n",
            "2995/2995 [==============================] - 103s 34ms/step - loss: 2.0180e-04\n",
            "Epoch 4/50\n",
            "2995/2995 [==============================] - 104s 35ms/step - loss: 1.4559e-04\n",
            "Epoch 5/50\n",
            "2995/2995 [==============================] - 101s 34ms/step - loss: 1.3610e-04\n",
            "Epoch 6/50\n",
            "2995/2995 [==============================] - 103s 34ms/step - loss: 1.1073e-04\n",
            "Epoch 7/50\n",
            "2995/2995 [==============================] - 104s 35ms/step - loss: 1.1184e-04\n",
            "Epoch 8/50\n",
            "2995/2995 [==============================] - 102s 34ms/step - loss: 1.0260e-04\n",
            "Epoch 9/50\n",
            "2995/2995 [==============================] - 103s 34ms/step - loss: 9.3220e-05\n",
            "Epoch 10/50\n",
            "2995/2995 [==============================] - 102s 34ms/step - loss: 8.8436e-05\n",
            "Epoch 11/50\n",
            "2995/2995 [==============================] - 102s 34ms/step - loss: 9.5228e-05\n",
            "Epoch 12/50\n",
            "2995/2995 [==============================] - 102s 34ms/step - loss: 8.8694e-05\n",
            "Epoch 13/50\n",
            "2995/2995 [==============================] - 103s 34ms/step - loss: 8.4677e-05\n",
            "Epoch 14/50\n",
            "2995/2995 [==============================] - 101s 34ms/step - loss: 8.6580e-05\n",
            "Epoch 15/50\n",
            "2995/2995 [==============================] - 101s 34ms/step - loss: 8.7713e-05\n",
            "Epoch 16/50\n",
            "2995/2995 [==============================] - 102s 34ms/step - loss: 8.5223e-05\n",
            "Epoch 17/50\n",
            "2995/2995 [==============================] - 102s 34ms/step - loss: 7.8094e-05\n",
            "Epoch 18/50\n",
            "2995/2995 [==============================] - 101s 34ms/step - loss: 8.2161e-05\n",
            "Epoch 19/50\n",
            "2995/2995 [==============================] - 103s 34ms/step - loss: 8.1058e-05\n",
            "Epoch 20/50\n",
            "2995/2995 [==============================] - 103s 35ms/step - loss: 7.7863e-05\n",
            "Epoch 21/50\n",
            "2995/2995 [==============================] - 103s 34ms/step - loss: 8.0969e-05\n",
            "Epoch 22/50\n",
            "2995/2995 [==============================] - 102s 34ms/step - loss: 7.3171e-05\n",
            "Epoch 23/50\n",
            "2995/2995 [==============================] - 100s 33ms/step - loss: 7.4386e-05\n",
            "Epoch 24/50\n",
            "2995/2995 [==============================] - 102s 34ms/step - loss: 7.8019e-05\n",
            "Epoch 25/50\n",
            "2995/2995 [==============================] - 102s 34ms/step - loss: 7.7395e-05\n",
            "Epoch 26/50\n",
            "2995/2995 [==============================] - 104s 35ms/step - loss: 7.5253e-05\n",
            "Epoch 27/50\n",
            "2995/2995 [==============================] - 104s 35ms/step - loss: 6.9747e-05\n",
            "Epoch 28/50\n",
            "2995/2995 [==============================] - 104s 35ms/step - loss: 7.1544e-05\n",
            "Epoch 29/50\n",
            "2995/2995 [==============================] - 104s 35ms/step - loss: 7.1015e-05\n",
            "Epoch 30/50\n",
            "2995/2995 [==============================] - 103s 34ms/step - loss: 7.2320e-05\n",
            "Epoch 31/50\n",
            "2995/2995 [==============================] - 103s 34ms/step - loss: 7.1721e-05\n",
            "Epoch 32/50\n",
            "2995/2995 [==============================] - 103s 34ms/step - loss: 6.6810e-05\n",
            "Epoch 33/50\n",
            "2995/2995 [==============================] - 104s 35ms/step - loss: 6.6357e-05\n",
            "Epoch 34/50\n",
            "2995/2995 [==============================] - 104s 35ms/step - loss: 6.9275e-05\n",
            "Epoch 35/50\n",
            "2995/2995 [==============================] - 102s 34ms/step - loss: 7.0455e-05\n",
            "Epoch 36/50\n",
            "2995/2995 [==============================] - 103s 35ms/step - loss: 6.9916e-05\n",
            "Epoch 37/50\n",
            "2995/2995 [==============================] - 102s 34ms/step - loss: 6.8636e-05\n",
            "Epoch 38/50\n",
            "2995/2995 [==============================] - 102s 34ms/step - loss: 6.7144e-05\n",
            "Epoch 39/50\n",
            "2995/2995 [==============================] - 102s 34ms/step - loss: 6.8151e-05\n",
            "Epoch 40/50\n",
            "2995/2995 [==============================] - 102s 34ms/step - loss: 6.5109e-05\n",
            "Epoch 41/50\n",
            "2995/2995 [==============================] - 102s 34ms/step - loss: 6.7172e-05\n",
            "Epoch 42/50\n",
            "2995/2995 [==============================] - 102s 34ms/step - loss: 6.7223e-05\n",
            "Epoch 43/50\n",
            "2995/2995 [==============================] - 102s 34ms/step - loss: 6.8671e-05\n",
            "Epoch 44/50\n",
            "2995/2995 [==============================] - 102s 34ms/step - loss: 6.6414e-05\n",
            "Epoch 45/50\n",
            "2995/2995 [==============================] - 102s 34ms/step - loss: 6.6811e-05\n",
            "Epoch 46/50\n",
            "2995/2995 [==============================] - 104s 35ms/step - loss: 6.4175e-05\n",
            "Epoch 47/50\n",
            "2995/2995 [==============================] - 102s 34ms/step - loss: 6.5085e-05\n",
            "Epoch 48/50\n",
            "2995/2995 [==============================] - 102s 34ms/step - loss: 6.6419e-05\n",
            "Epoch 49/50\n",
            "2995/2995 [==============================] - 102s 34ms/step - loss: 6.6907e-05\n",
            "Epoch 50/50\n",
            "2995/2995 [==============================] - 102s 34ms/step - loss: 6.4232e-05\n"
          ]
        },
        {
          "output_type": "execute_result",
          "data": {
            "text/plain": [
              "<keras.callbacks.History at 0x7f69d0265b90>"
            ]
          },
          "metadata": {},
          "execution_count": 26
        }
      ]
    },
    {
      "cell_type": "code",
      "metadata": {
        "colab": {
          "base_uri": "https://localhost:8080/",
          "height": 282
        },
        "id": "gJq2Gojuu-sf",
        "outputId": "8a994b62-17b4-4dbb-a4b5-cc9fb1e40666"
      },
      "source": [
        "loss_per_epoch = model.history.history['loss']\n",
        "plt.plot(range(len(loss_per_epoch)),loss_per_epoch)"
      ],
      "execution_count": 27,
      "outputs": [
        {
          "output_type": "execute_result",
          "data": {
            "text/plain": [
              "[<matplotlib.lines.Line2D at 0x7f69d4522190>]"
            ]
          },
          "metadata": {},
          "execution_count": 27
        },
        {
          "output_type": "display_data",
          "data": {
            "image/png": "[encoded data removed]",
            "text/plain": [
              "<Figure size 432x288 with 1 Axes>"
            ]
          },
          "metadata": {
            "needs_background": "light"
          }
        }
      ]
    },
    {
      "cell_type": "code",
      "metadata": {
        "id": "P9S_uMiG0Ezn"
      },
      "source": [
        "last_train_batch = scaled_train[-12:]"
      ],
      "execution_count": 28,
      "outputs": []
    },
    {
      "cell_type": "code",
      "metadata": {
        "id": "uV2ICcQe0LTd"
      },
      "source": [
        "last_train_batch =last_train_batch.reshape((1,n_input,n_features))"
      ],
      "execution_count": 29,
      "outputs": []
    },
    {
      "cell_type": "code",
      "metadata": {
        "colab": {
          "base_uri": "https://localhost:8080/"
        },
        "id": "s82R4kv60R7C",
        "outputId": "e6a86876-45a0-4058-ded6-2ca33950a563"
      },
      "source": [
        "model.predict(last_train_batch)"
      ],
      "execution_count": 30,
      "outputs": [
        {
          "output_type": "execute_result",
          "data": {
            "text/plain": [
              "array([[0.9495395]], dtype=float32)"
            ]
          },
          "metadata": {},
          "execution_count": 30
        }
      ]
    },
    {
      "cell_type": "code",
      "metadata": {
        "colab": {
          "base_uri": "https://localhost:8080/"
        },
        "id": "tgvQCXTO0U5g",
        "outputId": "53757901-5999-4c94-c4d1-de889803ec60"
      },
      "source": [
        "scaled_test[0]"
      ],
      "execution_count": 31,
      "outputs": [
        {
          "output_type": "execute_result",
          "data": {
            "text/plain": [
              "array([0.97650888])"
            ]
          },
          "metadata": {},
          "execution_count": 31
        }
      ]
    },
    {
      "cell_type": "code",
      "metadata": {
        "id": "T-H8qOqG0X1K"
      },
      "source": [
        "test_predictions = []\n",
        "\n",
        "first_eval_batch = scaled_train[-n_input:]\n",
        "current_batch = first_eval_batch.reshape((1, n_input, n_features))\n",
        "\n",
        "for i in range(len(test)):\n",
        "    \n",
        "    # get the prediction value for the first batch\n",
        "    current_pred = model.predict(current_batch)[0]\n",
        "    \n",
        "    # append the prediction into the array\n",
        "    test_predictions.append(current_pred) \n",
        "    \n",
        "    # use the prediction to update the batch and remove the first value\n",
        "    current_batch = np.append(current_batch[:,1:,:],[[current_pred]],axis=1)"
      ],
      "execution_count": 32,
      "outputs": []
    },
    {
      "cell_type": "code",
      "metadata": {
        "colab": {
          "base_uri": "https://localhost:8080/"
        },
        "id": "111zXuec1FtI",
        "outputId": "b3f6c447-cb41-46a4-acf6-2cd01781f056"
      },
      "source": [
        "test_predictions[:10]"
      ],
      "execution_count": 33,
      "outputs": [
        {
          "output_type": "execute_result",
          "data": {
            "text/plain": [
              "[array([0.9495395], dtype=float32),\n",
              " array([0.9284424], dtype=float32),\n",
              " array([0.9088672], dtype=float32),\n",
              " array([0.88946754], dtype=float32),\n",
              " array([0.8700623], dtype=float32),\n",
              " array([0.8506044], dtype=float32),\n",
              " array([0.83118623], dtype=float32),\n",
              " array([0.8119145], dtype=float32),\n",
              " array([0.7928851], dtype=float32),\n",
              " array([0.77399904], dtype=float32)]"
            ]
          },
          "metadata": {},
          "execution_count": 33
        }
      ]
    },
    {
      "cell_type": "code",
      "metadata": {
        "colab": {
          "base_uri": "https://localhost:8080/"
        },
        "id": "R5u5VAmB141I",
        "outputId": "ad3d34b7-1cba-4270-be7e-9c23c56d04ef"
      },
      "source": [
        "test.head(),"
      ],
      "execution_count": 40,
      "outputs": [
        {
          "output_type": "execute_result",
          "data": {
            "text/plain": [
              "(             Close  Predictions\n",
              " Date                           \n",
              " 2017-12-13  172.27   167.712173\n",
              " 2017-12-14  172.22   164.146769\n",
              " 2017-12-15  173.97   160.838553\n",
              " 2017-12-18  176.42   157.560014\n",
              " 2017-12-19  174.54   154.280527,)"
            ]
          },
          "metadata": {},
          "execution_count": 40
        }
      ]
    },
    {
      "cell_type": "code",
      "metadata": {
        "id": "FC884PSR18Np"
      },
      "source": [
        "true_predictions = scaler.inverse_transform(test_predictions)\n"
      ],
      "execution_count": 35,
      "outputs": []
    },
    {
      "cell_type": "code",
      "metadata": {
        "colab": {
          "base_uri": "https://localhost:8080/"
        },
        "id": "5XOua5YS3FZc",
        "outputId": "9b7e1fc2-1586-4475-f294-43a83aa47018"
      },
      "source": [
        "test['Predictions'] = true_predictions"
      ],
      "execution_count": 36,
      "outputs": [
        {
          "output_type": "stream",
          "name": "stderr",
          "text": [
            "/usr/local/lib/python3.7/dist-packages/ipykernel_launcher.py:1: SettingWithCopyWarning: \n",
            "A value is trying to be set on a copy of a slice from a DataFrame.\n",
            "Try using .loc[row_indexer,col_indexer] = value instead\n",
            "\n",
            "See the caveats in the documentation: https://pandas.pydata.org/pandas-docs/stable/user_guide/indexing.html#returning-a-view-versus-a-copy\n",
            "  \"\"\"Entry point for launching an IPython kernel.\n"
          ]
        }
      ]
    },
    {
      "cell_type": "code",
      "metadata": {
        "colab": {
          "base_uri": "https://localhost:8080/",
          "height": 351
        },
        "id": "Hd6YE7cB3Hr5",
        "outputId": "d2a322d2-3aeb-4f4c-e752-fcd2b7a715e0"
      },
      "source": [
        "test.plot(figsize=(14,5))"
      ],
      "execution_count": 37,
      "outputs": [
        {
          "output_type": "execute_result",
          "data": {
            "text/plain": [
              "<matplotlib.axes._subplots.AxesSubplot at 0x7f695c3b2910>"
            ]
          },
          "metadata": {},
          "execution_count": 37
        },
        {
          "output_type": "display_data",
          "data": {
            "image/png": "[encoded data removed]",
            "text/plain": [
              "<Figure size 1008x360 with 1 Axes>"
            ]
          },
          "metadata": {
            "needs_background": "light"
          }
        }
      ]
    },
    {
      "cell_type": "code",
      "metadata": {
        "colab": {
          "base_uri": "https://localhost:8080/"
        },
        "id": "B2prlR9G3Kpy",
        "outputId": "da46ee7f-c6e3-475b-f1c3-0b60afaec7ea"
      },
      "source": [
        "from sklearn.metrics import mean_squared_error\n",
        "from math import sqrt\n",
        "rmse=sqrt(mean_squared_error(test['Close'],test['Predictions']))\n",
        "print(rmse)"
      ],
      "execution_count": 38,
      "outputs": [
        {
          "output_type": "stream",
          "name": "stdout",
          "text": [
            "25.63597553220093\n"
          ]
        }
      ]
    },
    {
      "cell_type": "code",
      "metadata": {
        "id": "zwOrCqer3Rey"
      },
      "source": [
        ""
      ],
      "execution_count": 38,
      "outputs": []
    }
  ]
}