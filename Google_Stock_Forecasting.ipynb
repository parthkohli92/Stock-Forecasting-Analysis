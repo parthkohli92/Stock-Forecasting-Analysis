{
  "nbformat": 4,
  "nbformat_minor": 0,
  "metadata": {
    "colab": {
      "name": "Google_Stock_Forecasting.ipynb",
      "provenance": [],
      "authorship_tag": "ABX9TyOiFBXD5QUNUky95viPQlCO",
      "include_colab_link": true
    },
    "kernelspec": {
      "name": "python3",
      "display_name": "Python 3"
    },
    "language_info": {
      "name": "python"
    }
  },
  "cells": [
    {
      "cell_type": "markdown",
      "metadata": {
        "id": "view-in-github",
        "colab_type": "text"
      },
      "source": [
        "<a href=\"https://colab.research.google.com/github/parthkohli92/Stock-Forecasting-Analysis/blob/main/Google_Stock_Forecasting.ipynb\" target=\"_parent\"><img src=\"https://colab.research.google.com/assets/colab-badge.svg\" alt=\"Open In Colab\"/></a>"
      ]
    },
    {
      "cell_type": "code",
      "metadata": {
        "id": "tgKFqcogZLap"
      },
      "source": [
        "import numpy as np \n",
        "import pandas as pd"
      ],
      "execution_count": 70,
      "outputs": []
    },
    {
      "cell_type": "code",
      "metadata": {
        "colab": {
          "base_uri": "https://localhost:8080/",
          "height": 344
        },
        "id": "tvSCiNrKaFtX",
        "outputId": "ac2687f2-8e77-4698-d651-f426a0d29a40"
      },
      "source": [
        "df = pd.read_csv('GOOGLE.csv', index_col='date', parse_dates=True)\n",
        "df.head()"
      ],
      "execution_count": 71,
      "outputs": [
        {
          "output_type": "execute_result",
          "data": {
            "text/html": [
              "<div>\n",
              "<style scoped>\n",
              "    .dataframe tbody tr th:only-of-type {\n",
              "        vertical-align: middle;\n",
              "    }\n",
              "\n",
              "    .dataframe tbody tr th {\n",
              "        vertical-align: top;\n",
              "    }\n",
              "\n",
              "    .dataframe thead th {\n",
              "        text-align: right;\n",
              "    }\n",
              "</style>\n",
              "<table border=\"1\" class=\"dataframe\">\n",
              "  <thead>\n",
              "    <tr style=\"text-align: right;\">\n",
              "      <th></th>\n",
              "      <th>symbol</th>\n",
              "      <th>close</th>\n",
              "      <th>high</th>\n",
              "      <th>low</th>\n",
              "      <th>open</th>\n",
              "      <th>volume</th>\n",
              "      <th>adjClose</th>\n",
              "      <th>adjHigh</th>\n",
              "      <th>adjLow</th>\n",
              "      <th>adjOpen</th>\n",
              "      <th>adjVolume</th>\n",
              "      <th>divCash</th>\n",
              "      <th>splitFactor</th>\n",
              "    </tr>\n",
              "    <tr>\n",
              "      <th>date</th>\n",
              "      <th></th>\n",
              "      <th></th>\n",
              "      <th></th>\n",
              "      <th></th>\n",
              "      <th></th>\n",
              "      <th></th>\n",
              "      <th></th>\n",
              "      <th></th>\n",
              "      <th></th>\n",
              "      <th></th>\n",
              "      <th></th>\n",
              "      <th></th>\n",
              "      <th></th>\n",
              "    </tr>\n",
              "  </thead>\n",
              "  <tbody>\n",
              "    <tr>\n",
              "      <th>2016-11-22 00:00:00+00:00</th>\n",
              "      <td>GOOG</td>\n",
              "      <td>768.27</td>\n",
              "      <td>776.9600</td>\n",
              "      <td>767.00</td>\n",
              "      <td>772.63</td>\n",
              "      <td>1593108</td>\n",
              "      <td>768.27</td>\n",
              "      <td>776.9600</td>\n",
              "      <td>767.00</td>\n",
              "      <td>772.63</td>\n",
              "      <td>1593108</td>\n",
              "      <td>0.0</td>\n",
              "      <td>1.0</td>\n",
              "    </tr>\n",
              "    <tr>\n",
              "      <th>2016-11-23 00:00:00+00:00</th>\n",
              "      <td>GOOG</td>\n",
              "      <td>760.99</td>\n",
              "      <td>768.2825</td>\n",
              "      <td>755.25</td>\n",
              "      <td>767.73</td>\n",
              "      <td>1478417</td>\n",
              "      <td>760.99</td>\n",
              "      <td>768.2825</td>\n",
              "      <td>755.25</td>\n",
              "      <td>767.73</td>\n",
              "      <td>1478417</td>\n",
              "      <td>0.0</td>\n",
              "      <td>1.0</td>\n",
              "    </tr>\n",
              "    <tr>\n",
              "      <th>2016-11-25 00:00:00+00:00</th>\n",
              "      <td>GOOG</td>\n",
              "      <td>761.68</td>\n",
              "      <td>765.0000</td>\n",
              "      <td>760.52</td>\n",
              "      <td>764.26</td>\n",
              "      <td>587421</td>\n",
              "      <td>761.68</td>\n",
              "      <td>765.0000</td>\n",
              "      <td>760.52</td>\n",
              "      <td>764.26</td>\n",
              "      <td>587421</td>\n",
              "      <td>0.0</td>\n",
              "      <td>1.0</td>\n",
              "    </tr>\n",
              "    <tr>\n",
              "      <th>2016-11-28 00:00:00+00:00</th>\n",
              "      <td>GOOG</td>\n",
              "      <td>768.24</td>\n",
              "      <td>779.5300</td>\n",
              "      <td>759.80</td>\n",
              "      <td>760.00</td>\n",
              "      <td>2188151</td>\n",
              "      <td>768.24</td>\n",
              "      <td>779.5300</td>\n",
              "      <td>759.80</td>\n",
              "      <td>760.00</td>\n",
              "      <td>2188151</td>\n",
              "      <td>0.0</td>\n",
              "      <td>1.0</td>\n",
              "    </tr>\n",
              "    <tr>\n",
              "      <th>2016-11-29 00:00:00+00:00</th>\n",
              "      <td>GOOG</td>\n",
              "      <td>770.84</td>\n",
              "      <td>778.5000</td>\n",
              "      <td>768.24</td>\n",
              "      <td>771.53</td>\n",
              "      <td>1616618</td>\n",
              "      <td>770.84</td>\n",
              "      <td>778.5000</td>\n",
              "      <td>768.24</td>\n",
              "      <td>771.53</td>\n",
              "      <td>1616618</td>\n",
              "      <td>0.0</td>\n",
              "      <td>1.0</td>\n",
              "    </tr>\n",
              "  </tbody>\n",
              "</table>\n",
              "</div>"
            ],
            "text/plain": [
              "                          symbol   close  ...  divCash  splitFactor\n",
              "date                                      ...                      \n",
              "2016-11-22 00:00:00+00:00   GOOG  768.27  ...      0.0          1.0\n",
              "2016-11-23 00:00:00+00:00   GOOG  760.99  ...      0.0          1.0\n",
              "2016-11-25 00:00:00+00:00   GOOG  761.68  ...      0.0          1.0\n",
              "2016-11-28 00:00:00+00:00   GOOG  768.24  ...      0.0          1.0\n",
              "2016-11-29 00:00:00+00:00   GOOG  770.84  ...      0.0          1.0\n",
              "\n",
              "[5 rows x 13 columns]"
            ]
          },
          "metadata": {},
          "execution_count": 71
        }
      ]
    },
    {
      "cell_type": "code",
      "metadata": {
        "id": "08UgNQtyaLag"
      },
      "source": [
        "import matplotlib.pyplot as plt\n",
        "%matplotlib inline"
      ],
      "execution_count": 72,
      "outputs": []
    },
    {
      "cell_type": "code",
      "metadata": {
        "colab": {
          "base_uri": "https://localhost:8080/",
          "height": 459
        },
        "id": "WzY2DS_rbG7c",
        "outputId": "e4543a82-3fdb-446f-be89-2d73450d5c81"
      },
      "source": [
        "df.plot(figsize=(12,8))"
      ],
      "execution_count": 73,
      "outputs": [
        {
          "output_type": "execute_result",
          "data": {
            "text/plain": [
              "<matplotlib.axes._subplots.AxesSubplot at 0x7fc56f777d10>"
            ]
          },
          "metadata": {},
          "execution_count": 73
        },
        {
          "output_type": "display_data",
          "data": {
            "image/png": "[encoded data removed]",
            "text/plain": [
              "<Figure size 864x576 with 1 Axes>"
            ]
          },
          "metadata": {
            "needs_background": "light"
          }
        }
      ]
    },
    {
      "cell_type": "code",
      "metadata": {
        "colab": {
          "base_uri": "https://localhost:8080/",
          "height": 649
        },
        "id": "IVY-TFjPbKNZ",
        "outputId": "2e0f8340-896c-42af-f8e7-2a6811672dd6"
      },
      "source": [
        "df.drop(['divCash'],axis=1)"
      ],
      "execution_count": 74,
      "outputs": [
        {
          "output_type": "execute_result",
          "data": {
            "text/html": [
              "<div>\n",
              "<style scoped>\n",
              "    .dataframe tbody tr th:only-of-type {\n",
              "        vertical-align: middle;\n",
              "    }\n",
              "\n",
              "    .dataframe tbody tr th {\n",
              "        vertical-align: top;\n",
              "    }\n",
              "\n",
              "    .dataframe thead th {\n",
              "        text-align: right;\n",
              "    }\n",
              "</style>\n",
              "<table border=\"1\" class=\"dataframe\">\n",
              "  <thead>\n",
              "    <tr style=\"text-align: right;\">\n",
              "      <th></th>\n",
              "      <th>symbol</th>\n",
              "      <th>close</th>\n",
              "      <th>high</th>\n",
              "      <th>low</th>\n",
              "      <th>open</th>\n",
              "      <th>volume</th>\n",
              "      <th>adjClose</th>\n",
              "      <th>adjHigh</th>\n",
              "      <th>adjLow</th>\n",
              "      <th>adjOpen</th>\n",
              "      <th>adjVolume</th>\n",
              "      <th>splitFactor</th>\n",
              "    </tr>\n",
              "    <tr>\n",
              "      <th>date</th>\n",
              "      <th></th>\n",
              "      <th></th>\n",
              "      <th></th>\n",
              "      <th></th>\n",
              "      <th></th>\n",
              "      <th></th>\n",
              "      <th></th>\n",
              "      <th></th>\n",
              "      <th></th>\n",
              "      <th></th>\n",
              "      <th></th>\n",
              "      <th></th>\n",
              "    </tr>\n",
              "  </thead>\n",
              "  <tbody>\n",
              "    <tr>\n",
              "      <th>2016-11-22 00:00:00+00:00</th>\n",
              "      <td>GOOG</td>\n",
              "      <td>768.27</td>\n",
              "      <td>776.9600</td>\n",
              "      <td>767.00</td>\n",
              "      <td>772.63</td>\n",
              "      <td>1593108</td>\n",
              "      <td>768.27</td>\n",
              "      <td>776.9600</td>\n",
              "      <td>767.00</td>\n",
              "      <td>772.63</td>\n",
              "      <td>1593108</td>\n",
              "      <td>1.0</td>\n",
              "    </tr>\n",
              "    <tr>\n",
              "      <th>2016-11-23 00:00:00+00:00</th>\n",
              "      <td>GOOG</td>\n",
              "      <td>760.99</td>\n",
              "      <td>768.2825</td>\n",
              "      <td>755.25</td>\n",
              "      <td>767.73</td>\n",
              "      <td>1478417</td>\n",
              "      <td>760.99</td>\n",
              "      <td>768.2825</td>\n",
              "      <td>755.25</td>\n",
              "      <td>767.73</td>\n",
              "      <td>1478417</td>\n",
              "      <td>1.0</td>\n",
              "    </tr>\n",
              "    <tr>\n",
              "      <th>2016-11-25 00:00:00+00:00</th>\n",
              "      <td>GOOG</td>\n",
              "      <td>761.68</td>\n",
              "      <td>765.0000</td>\n",
              "      <td>760.52</td>\n",
              "      <td>764.26</td>\n",
              "      <td>587421</td>\n",
              "      <td>761.68</td>\n",
              "      <td>765.0000</td>\n",
              "      <td>760.52</td>\n",
              "      <td>764.26</td>\n",
              "      <td>587421</td>\n",
              "      <td>1.0</td>\n",
              "    </tr>\n",
              "    <tr>\n",
              "      <th>2016-11-28 00:00:00+00:00</th>\n",
              "      <td>GOOG</td>\n",
              "      <td>768.24</td>\n",
              "      <td>779.5300</td>\n",
              "      <td>759.80</td>\n",
              "      <td>760.00</td>\n",
              "      <td>2188151</td>\n",
              "      <td>768.24</td>\n",
              "      <td>779.5300</td>\n",
              "      <td>759.80</td>\n",
              "      <td>760.00</td>\n",
              "      <td>2188151</td>\n",
              "      <td>1.0</td>\n",
              "    </tr>\n",
              "    <tr>\n",
              "      <th>2016-11-29 00:00:00+00:00</th>\n",
              "      <td>GOOG</td>\n",
              "      <td>770.84</td>\n",
              "      <td>778.5000</td>\n",
              "      <td>768.24</td>\n",
              "      <td>771.53</td>\n",
              "      <td>1616618</td>\n",
              "      <td>770.84</td>\n",
              "      <td>778.5000</td>\n",
              "      <td>768.24</td>\n",
              "      <td>771.53</td>\n",
              "      <td>1616618</td>\n",
              "      <td>1.0</td>\n",
              "    </tr>\n",
              "    <tr>\n",
              "      <th>...</th>\n",
              "      <td>...</td>\n",
              "      <td>...</td>\n",
              "      <td>...</td>\n",
              "      <td>...</td>\n",
              "      <td>...</td>\n",
              "      <td>...</td>\n",
              "      <td>...</td>\n",
              "      <td>...</td>\n",
              "      <td>...</td>\n",
              "      <td>...</td>\n",
              "      <td>...</td>\n",
              "      <td>...</td>\n",
              "    </tr>\n",
              "    <tr>\n",
              "      <th>2021-11-15 00:00:00+00:00</th>\n",
              "      <td>GOOG</td>\n",
              "      <td>2987.76</td>\n",
              "      <td>3009.5400</td>\n",
              "      <td>2973.05</td>\n",
              "      <td>3000.00</td>\n",
              "      <td>812367</td>\n",
              "      <td>2987.76</td>\n",
              "      <td>3009.5400</td>\n",
              "      <td>2973.05</td>\n",
              "      <td>3000.00</td>\n",
              "      <td>812367</td>\n",
              "      <td>1.0</td>\n",
              "    </tr>\n",
              "    <tr>\n",
              "      <th>2021-11-16 00:00:00+00:00</th>\n",
              "      <td>GOOG</td>\n",
              "      <td>2981.52</td>\n",
              "      <td>2996.6500</td>\n",
              "      <td>2967.00</td>\n",
              "      <td>2983.41</td>\n",
              "      <td>862743</td>\n",
              "      <td>2981.52</td>\n",
              "      <td>2996.6500</td>\n",
              "      <td>2967.00</td>\n",
              "      <td>2983.41</td>\n",
              "      <td>862743</td>\n",
              "      <td>1.0</td>\n",
              "    </tr>\n",
              "    <tr>\n",
              "      <th>2021-11-17 00:00:00+00:00</th>\n",
              "      <td>GOOG</td>\n",
              "      <td>2981.24</td>\n",
              "      <td>2992.5200</td>\n",
              "      <td>2971.26</td>\n",
              "      <td>2984.58</td>\n",
              "      <td>764541</td>\n",
              "      <td>2981.24</td>\n",
              "      <td>2992.5200</td>\n",
              "      <td>2971.26</td>\n",
              "      <td>2984.58</td>\n",
              "      <td>764541</td>\n",
              "      <td>1.0</td>\n",
              "    </tr>\n",
              "    <tr>\n",
              "      <th>2021-11-18 00:00:00+00:00</th>\n",
              "      <td>GOOG</td>\n",
              "      <td>3014.18</td>\n",
              "      <td>3032.2000</td>\n",
              "      <td>2979.97</td>\n",
              "      <td>2982.92</td>\n",
              "      <td>1334120</td>\n",
              "      <td>3014.18</td>\n",
              "      <td>3032.2000</td>\n",
              "      <td>2979.97</td>\n",
              "      <td>2982.92</td>\n",
              "      <td>1334120</td>\n",
              "      <td>1.0</td>\n",
              "    </tr>\n",
              "    <tr>\n",
              "      <th>2021-11-19 00:00:00+00:00</th>\n",
              "      <td>GOOG</td>\n",
              "      <td>2999.05</td>\n",
              "      <td>3037.0000</td>\n",
              "      <td>2997.75</td>\n",
              "      <td>3020.00</td>\n",
              "      <td>989148</td>\n",
              "      <td>2999.05</td>\n",
              "      <td>3037.0000</td>\n",
              "      <td>2997.75</td>\n",
              "      <td>3020.00</td>\n",
              "      <td>989148</td>\n",
              "      <td>1.0</td>\n",
              "    </tr>\n",
              "  </tbody>\n",
              "</table>\n",
              "<p>1258 rows × 12 columns</p>\n",
              "</div>"
            ],
            "text/plain": [
              "                          symbol    close  ...  adjVolume  splitFactor\n",
              "date                                       ...                        \n",
              "2016-11-22 00:00:00+00:00   GOOG   768.27  ...    1593108          1.0\n",
              "2016-11-23 00:00:00+00:00   GOOG   760.99  ...    1478417          1.0\n",
              "2016-11-25 00:00:00+00:00   GOOG   761.68  ...     587421          1.0\n",
              "2016-11-28 00:00:00+00:00   GOOG   768.24  ...    2188151          1.0\n",
              "2016-11-29 00:00:00+00:00   GOOG   770.84  ...    1616618          1.0\n",
              "...                          ...      ...  ...        ...          ...\n",
              "2021-11-15 00:00:00+00:00   GOOG  2987.76  ...     812367          1.0\n",
              "2021-11-16 00:00:00+00:00   GOOG  2981.52  ...     862743          1.0\n",
              "2021-11-17 00:00:00+00:00   GOOG  2981.24  ...     764541          1.0\n",
              "2021-11-18 00:00:00+00:00   GOOG  3014.18  ...    1334120          1.0\n",
              "2021-11-19 00:00:00+00:00   GOOG  2999.05  ...     989148          1.0\n",
              "\n",
              "[1258 rows x 12 columns]"
            ]
          },
          "metadata": {},
          "execution_count": 74
        }
      ]
    },
    {
      "cell_type": "code",
      "metadata": {
        "colab": {
          "base_uri": "https://localhost:8080/"
        },
        "id": "F9xBVNoTbUM6",
        "outputId": "cde24c59-968a-498f-9706-85bf405f91ae"
      },
      "source": [
        "df.info()"
      ],
      "execution_count": 75,
      "outputs": [
        {
          "output_type": "stream",
          "name": "stdout",
          "text": [
            "<class 'pandas.core.frame.DataFrame'>\n",
            "DatetimeIndex: 1258 entries, 2016-11-22 00:00:00+00:00 to 2021-11-19 00:00:00+00:00\n",
            "Data columns (total 13 columns):\n",
            " #   Column       Non-Null Count  Dtype  \n",
            "---  ------       --------------  -----  \n",
            " 0   symbol       1258 non-null   object \n",
            " 1   close        1258 non-null   float64\n",
            " 2   high         1258 non-null   float64\n",
            " 3   low          1258 non-null   float64\n",
            " 4   open         1258 non-null   float64\n",
            " 5   volume       1258 non-null   int64  \n",
            " 6   adjClose     1258 non-null   float64\n",
            " 7   adjHigh      1258 non-null   float64\n",
            " 8   adjLow       1258 non-null   float64\n",
            " 9   adjOpen      1258 non-null   float64\n",
            " 10  adjVolume    1258 non-null   int64  \n",
            " 11  divCash      1258 non-null   float64\n",
            " 12  splitFactor  1258 non-null   float64\n",
            "dtypes: float64(10), int64(2), object(1)\n",
            "memory usage: 137.6+ KB\n"
          ]
        }
      ]
    },
    {
      "cell_type": "code",
      "metadata": {
        "id": "R9WNJRRGcXde"
      },
      "source": [
        "df=df[['high']]"
      ],
      "execution_count": 76,
      "outputs": []
    },
    {
      "cell_type": "code",
      "metadata": {
        "colab": {
          "base_uri": "https://localhost:8080/",
          "height": 238
        },
        "id": "sQC38zjvb7Kj",
        "outputId": "6e3e8381-60c1-4ecc-cfcc-6083893f9018"
      },
      "source": [
        "df.tail()"
      ],
      "execution_count": 77,
      "outputs": [
        {
          "output_type": "execute_result",
          "data": {
            "text/html": [
              "<div>\n",
              "<style scoped>\n",
              "    .dataframe tbody tr th:only-of-type {\n",
              "        vertical-align: middle;\n",
              "    }\n",
              "\n",
              "    .dataframe tbody tr th {\n",
              "        vertical-align: top;\n",
              "    }\n",
              "\n",
              "    .dataframe thead th {\n",
              "        text-align: right;\n",
              "    }\n",
              "</style>\n",
              "<table border=\"1\" class=\"dataframe\">\n",
              "  <thead>\n",
              "    <tr style=\"text-align: right;\">\n",
              "      <th></th>\n",
              "      <th>high</th>\n",
              "    </tr>\n",
              "    <tr>\n",
              "      <th>date</th>\n",
              "      <th></th>\n",
              "    </tr>\n",
              "  </thead>\n",
              "  <tbody>\n",
              "    <tr>\n",
              "      <th>2021-11-15 00:00:00+00:00</th>\n",
              "      <td>3009.54</td>\n",
              "    </tr>\n",
              "    <tr>\n",
              "      <th>2021-11-16 00:00:00+00:00</th>\n",
              "      <td>2996.65</td>\n",
              "    </tr>\n",
              "    <tr>\n",
              "      <th>2021-11-17 00:00:00+00:00</th>\n",
              "      <td>2992.52</td>\n",
              "    </tr>\n",
              "    <tr>\n",
              "      <th>2021-11-18 00:00:00+00:00</th>\n",
              "      <td>3032.20</td>\n",
              "    </tr>\n",
              "    <tr>\n",
              "      <th>2021-11-19 00:00:00+00:00</th>\n",
              "      <td>3037.00</td>\n",
              "    </tr>\n",
              "  </tbody>\n",
              "</table>\n",
              "</div>"
            ],
            "text/plain": [
              "                              high\n",
              "date                              \n",
              "2021-11-15 00:00:00+00:00  3009.54\n",
              "2021-11-16 00:00:00+00:00  2996.65\n",
              "2021-11-17 00:00:00+00:00  2992.52\n",
              "2021-11-18 00:00:00+00:00  3032.20\n",
              "2021-11-19 00:00:00+00:00  3037.00"
            ]
          },
          "metadata": {},
          "execution_count": 77
        }
      ]
    },
    {
      "cell_type": "code",
      "metadata": {
        "colab": {
          "base_uri": "https://localhost:8080/",
          "height": 438
        },
        "id": "Sh6Z5cjydDFC",
        "outputId": "479942d5-b4a4-4235-b7a4-956de1ce4102"
      },
      "source": [
        "df.plot(figsize=(12,8))"
      ],
      "execution_count": 78,
      "outputs": [
        {
          "output_type": "execute_result",
          "data": {
            "text/plain": [
              "<matplotlib.axes._subplots.AxesSubplot at 0x7fc56f68f690>"
            ]
          },
          "metadata": {},
          "execution_count": 78
        },
        {
          "output_type": "display_data",
          "data": {
            "image/png": "[encoded data removed]",
            "text/plain": [
              "<Figure size 864x576 with 1 Axes>"
            ]
          },
          "metadata": {
            "needs_background": "light"
          }
        }
      ]
    },
    {
      "cell_type": "code",
      "metadata": {
        "colab": {
          "base_uri": "https://localhost:8080/"
        },
        "id": "XIpWjLUCdMmJ",
        "outputId": "39533107-a5ec-4de3-cfa8-fc90bcd6a20b"
      },
      "source": [
        "len(df)"
      ],
      "execution_count": 79,
      "outputs": [
        {
          "output_type": "execute_result",
          "data": {
            "text/plain": [
              "1258"
            ]
          },
          "metadata": {},
          "execution_count": 79
        }
      ]
    },
    {
      "cell_type": "code",
      "metadata": {
        "id": "y0HyumZTdVaT"
      },
      "source": [
        "train = df.iloc[:1058]\n",
        "test = df.iloc[1058:]"
      ],
      "execution_count": 80,
      "outputs": []
    },
    {
      "cell_type": "code",
      "metadata": {
        "id": "S9hEa7TzdiAc"
      },
      "source": [
        "from sklearn.preprocessing import MinMaxScaler\n",
        "scaler = MinMaxScaler()"
      ],
      "execution_count": 81,
      "outputs": []
    },
    {
      "cell_type": "code",
      "metadata": {
        "colab": {
          "base_uri": "https://localhost:8080/"
        },
        "id": "liXXIVJzdjsa",
        "outputId": "d47663a1-6ae9-4c56-f8ba-c05e57196f5e"
      },
      "source": [
        "df.head(), df.tail()"
      ],
      "execution_count": 82,
      "outputs": [
        {
          "output_type": "execute_result",
          "data": {
            "text/plain": [
              "(                               high\n",
              " date                               \n",
              " 2016-11-22 00:00:00+00:00  776.9600\n",
              " 2016-11-23 00:00:00+00:00  768.2825\n",
              " 2016-11-25 00:00:00+00:00  765.0000\n",
              " 2016-11-28 00:00:00+00:00  779.5300\n",
              " 2016-11-29 00:00:00+00:00  778.5000,                               high\n",
              " date                              \n",
              " 2021-11-15 00:00:00+00:00  3009.54\n",
              " 2021-11-16 00:00:00+00:00  2996.65\n",
              " 2021-11-17 00:00:00+00:00  2992.52\n",
              " 2021-11-18 00:00:00+00:00  3032.20\n",
              " 2021-11-19 00:00:00+00:00  3037.00)"
            ]
          },
          "metadata": {},
          "execution_count": 82
        }
      ]
    },
    {
      "cell_type": "code",
      "metadata": {
        "id": "N4-M1tPudlR1"
      },
      "source": [
        "scaler.fit(train)\n",
        "scaled_train = scaler.transform(train)\n",
        "scaled_test = scaler.transform(test)"
      ],
      "execution_count": 83,
      "outputs": []
    },
    {
      "cell_type": "code",
      "metadata": {
        "colab": {
          "base_uri": "https://localhost:8080/"
        },
        "id": "iw2HvMYldq-j",
        "outputId": "f1c62f60-60d4-40ed-89fd-67d7c4e0e687"
      },
      "source": [
        "scaled_train[:10]"
      ],
      "execution_count": 84,
      "outputs": [
        {
          "output_type": "execute_result",
          "data": {
            "text/plain": [
              "array([[0.01685138],\n",
              "       [0.01048257],\n",
              "       [0.00807339],\n",
              "       [0.01873761],\n",
              "       [0.01798165],\n",
              "       [0.01393761],\n",
              "       [0.00429358],\n",
              "       [0.        ],\n",
              "       [0.00726606],\n",
              "       [0.0108844 ]])"
            ]
          },
          "metadata": {},
          "execution_count": 84
        }
      ]
    },
    {
      "cell_type": "markdown",
      "metadata": {
        "id": "V7GZZMLFdssk"
      },
      "source": [
        "Values are scaled bw 0 to 1 "
      ]
    },
    {
      "cell_type": "code",
      "metadata": {
        "id": "KpbYs8emdwpo"
      },
      "source": [
        "from keras.preprocessing.sequence import TimeseriesGenerator"
      ],
      "execution_count": 85,
      "outputs": []
    },
    {
      "cell_type": "code",
      "metadata": {
        "id": "EZlstHZKd0L4"
      },
      "source": [
        "# Define generator \n",
        "n_input = 3 \n",
        "n_features = 1\n",
        "generator = TimeseriesGenerator(scaled_train, scaled_train,length=n_input, batch_size=1)"
      ],
      "execution_count": 86,
      "outputs": []
    },
    {
      "cell_type": "code",
      "metadata": {
        "colab": {
          "base_uri": "https://localhost:8080/"
        },
        "id": "kEP7zCcUd4AM",
        "outputId": "1b7a24f2-3649-4579-e659-7fd9f254ff23"
      },
      "source": [
        "print(len(scaled_train),len(generator))"
      ],
      "execution_count": 87,
      "outputs": [
        {
          "output_type": "stream",
          "name": "stdout",
          "text": [
            "1058 1055\n"
          ]
        }
      ]
    },
    {
      "cell_type": "markdown",
      "metadata": {
        "id": "dX9L_MPnd7mR"
      },
      "source": [
        "Perfect!"
      ]
    },
    {
      "cell_type": "code",
      "metadata": {
        "colab": {
          "base_uri": "https://localhost:8080/"
        },
        "id": "HRB_jOXFeAy6",
        "outputId": "66f96737-a820-4870-bbfd-fbbd10d67cc2"
      },
      "source": [
        "X, y=generator[0]\n",
        "print(f'Given the Array: \\n{X.flatten()}')\n",
        "print(f'Predict this y: \\n {y}')"
      ],
      "execution_count": 88,
      "outputs": [
        {
          "output_type": "stream",
          "name": "stdout",
          "text": [
            "Given the Array: \n",
            "[0.01685138 0.01048257 0.00807339]\n",
            "Predict this y: \n",
            " [[0.01873761]]\n"
          ]
        }
      ]
    },
    {
      "cell_type": "code",
      "metadata": {
        "colab": {
          "base_uri": "https://localhost:8080/"
        },
        "id": "oTTapd4IeDRc",
        "outputId": "33deafa9-dedf-494d-d08b-c4da8576756d"
      },
      "source": [
        "X, y=generator[1]\n",
        "print(f'Given the Array: \\n{X.flatten()}')\n",
        "print(f'Predict this y: \\n {y}')"
      ],
      "execution_count": 89,
      "outputs": [
        {
          "output_type": "stream",
          "name": "stdout",
          "text": [
            "Given the Array: \n",
            "[0.01048257 0.00807339 0.01873761]\n",
            "Predict this y: \n",
            " [[0.01798165]]\n"
          ]
        }
      ]
    },
    {
      "cell_type": "code",
      "metadata": {
        "colab": {
          "base_uri": "https://localhost:8080/"
        },
        "id": "23LYCxyHeE2s",
        "outputId": "b9c0ced3-a6e0-4577-92c7-52a25802ea03"
      },
      "source": [
        "X, y=generator[2]\n",
        "print(f'Given the Array: \\n{X.flatten()}')\n",
        "print(f'Predict this y: \\n {y}')"
      ],
      "execution_count": 90,
      "outputs": [
        {
          "output_type": "stream",
          "name": "stdout",
          "text": [
            "Given the Array: \n",
            "[0.00807339 0.01873761 0.01798165]\n",
            "Predict this y: \n",
            " [[0.01393761]]\n"
          ]
        }
      ]
    },
    {
      "cell_type": "code",
      "metadata": {
        "id": "g64r-M9oeHbR"
      },
      "source": [
        "# we do the same thing but now for 12months\n",
        "n_input = 12\n",
        "generator = TimeseriesGenerator(scaled_train, scaled_train,length=n_input,  batch_size=1)"
      ],
      "execution_count": 91,
      "outputs": []
    },
    {
      "cell_type": "code",
      "metadata": {
        "id": "HSf9iSYMePaq"
      },
      "source": [
        "from keras.models import Sequential\n",
        "from keras.layers import Dense\n",
        "from keras.layers import LSTM"
      ],
      "execution_count": 92,
      "outputs": []
    },
    {
      "cell_type": "code",
      "metadata": {
        "id": "KTom33uQeTup"
      },
      "source": [
        "# Making model \n",
        "model = Sequential()\n",
        "model.add(LSTM(200, activation='relu', input_shape=(n_input,n_features)))\n",
        "model.add(Dense(1))"
      ],
      "execution_count": 93,
      "outputs": []
    },
    {
      "cell_type": "code",
      "metadata": {
        "id": "6HcwiUpjeYM0"
      },
      "source": [
        "# Compiling the model \n",
        "model.compile(optimizer='adam',loss='mse')"
      ],
      "execution_count": 94,
      "outputs": []
    },
    {
      "cell_type": "code",
      "metadata": {
        "colab": {
          "base_uri": "https://localhost:8080/"
        },
        "id": "sqkfzSXkenfM",
        "outputId": "8d03e31c-36fc-49b4-e4ab-2eea2c741393"
      },
      "source": [
        "model.summary()"
      ],
      "execution_count": 95,
      "outputs": [
        {
          "output_type": "stream",
          "name": "stdout",
          "text": [
            "Model: \"sequential_3\"\n",
            "_________________________________________________________________\n",
            " Layer (type)                Output Shape              Param #   \n",
            "=================================================================\n",
            " lstm_4 (LSTM)               (None, 200)               161600    \n",
            "                                                                 \n",
            " dense_2 (Dense)             (None, 1)                 201       \n",
            "                                                                 \n",
            "=================================================================\n",
            "Total params: 161,801\n",
            "Trainable params: 161,801\n",
            "Non-trainable params: 0\n",
            "_________________________________________________________________\n"
          ]
        }
      ]
    },
    {
      "cell_type": "code",
      "metadata": {
        "colab": {
          "base_uri": "https://localhost:8080/"
        },
        "id": "vQRtfTUperIH",
        "outputId": "7e30aa7b-c4c0-4bcc-9841-62880ffb0d46"
      },
      "source": [
        "# Fitting the model\n",
        "model.fit(generator,epochs=25)"
      ],
      "execution_count": 113,
      "outputs": [
        {
          "output_type": "stream",
          "name": "stdout",
          "text": [
            "Epoch 1/25\n",
            "1046/1046 [==============================] - 9s 9ms/step - loss: 3.8011e-04\n",
            "Epoch 2/25\n",
            "1046/1046 [==============================] - 9s 9ms/step - loss: 3.0282e-04\n",
            "Epoch 3/25\n",
            "1046/1046 [==============================] - 9s 9ms/step - loss: 3.1772e-04\n",
            "Epoch 4/25\n",
            "1046/1046 [==============================] - 9s 9ms/step - loss: 3.2306e-04\n",
            "Epoch 5/25\n",
            "1046/1046 [==============================] - 9s 9ms/step - loss: 3.0398e-04\n",
            "Epoch 6/25\n",
            "1046/1046 [==============================] - 9s 9ms/step - loss: 3.2135e-04\n",
            "Epoch 7/25\n",
            "1046/1046 [==============================] - 9s 9ms/step - loss: 2.9897e-04\n",
            "Epoch 8/25\n",
            "1046/1046 [==============================] - 9s 9ms/step - loss: 2.9900e-04\n",
            "Epoch 9/25\n",
            "1046/1046 [==============================] - 9s 9ms/step - loss: 2.9273e-04\n",
            "Epoch 10/25\n",
            "1046/1046 [==============================] - 9s 9ms/step - loss: 2.6554e-04\n",
            "Epoch 11/25\n",
            "1046/1046 [==============================] - 9s 9ms/step - loss: 2.7686e-04\n",
            "Epoch 12/25\n",
            "1046/1046 [==============================] - 9s 9ms/step - loss: 3.0116e-04\n",
            "Epoch 13/25\n",
            "1046/1046 [==============================] - 10s 9ms/step - loss: 2.7668e-04\n",
            "Epoch 14/25\n",
            "1046/1046 [==============================] - 10s 9ms/step - loss: 2.8051e-04\n",
            "Epoch 15/25\n",
            "1046/1046 [==============================] - 10s 9ms/step - loss: 2.9674e-04\n",
            "Epoch 16/25\n",
            "1046/1046 [==============================] - 10s 9ms/step - loss: 2.7224e-04\n",
            "Epoch 17/25\n",
            "1046/1046 [==============================] - 10s 9ms/step - loss: 2.7407e-04\n",
            "Epoch 18/25\n",
            "1046/1046 [==============================] - 10s 10ms/step - loss: 2.7032e-04\n",
            "Epoch 19/25\n",
            "1046/1046 [==============================] - 10s 9ms/step - loss: 2.7051e-04\n",
            "Epoch 20/25\n",
            "1046/1046 [==============================] - 9s 9ms/step - loss: 2.8259e-04\n",
            "Epoch 21/25\n",
            "1046/1046 [==============================] - 10s 9ms/step - loss: 2.7355e-04\n",
            "Epoch 22/25\n",
            "1046/1046 [==============================] - 10s 9ms/step - loss: 2.7220e-04\n",
            "Epoch 23/25\n",
            "1046/1046 [==============================] - 10s 9ms/step - loss: 2.7624e-04\n",
            "Epoch 24/25\n",
            "1046/1046 [==============================] - 10s 9ms/step - loss: 2.6426e-04\n",
            "Epoch 25/25\n",
            "1046/1046 [==============================] - 10s 9ms/step - loss: 2.6327e-04\n"
          ]
        },
        {
          "output_type": "execute_result",
          "data": {
            "text/plain": [
              "<keras.callbacks.History at 0x7fc56d06f190>"
            ]
          },
          "metadata": {},
          "execution_count": 113
        }
      ]
    },
    {
      "cell_type": "code",
      "metadata": {
        "colab": {
          "base_uri": "https://localhost:8080/",
          "height": 282
        },
        "id": "C2-KadMrfe8f",
        "outputId": "35856416-7315-4c4e-f47e-e7feb231ede5"
      },
      "source": [
        "loss_per_epoch = model.history.history['loss']\n",
        "plt.plot(range(len(loss_per_epoch)),loss_per_epoch)"
      ],
      "execution_count": 116,
      "outputs": [
        {
          "output_type": "execute_result",
          "data": {
            "text/plain": [
              "[<matplotlib.lines.Line2D at 0x7fc56cea8910>]"
            ]
          },
          "metadata": {},
          "execution_count": 116
        },
        {
          "output_type": "display_data",
          "data": {
            "image/png": "[encoded data removed]",
            "text/plain": [
              "<Figure size 432x288 with 1 Axes>"
            ]
          },
          "metadata": {
            "needs_background": "light"
          }
        }
      ]
    },
    {
      "cell_type": "code",
      "metadata": {
        "id": "NdwF3ofjfjLS"
      },
      "source": [
        "last_train_batch = scaled_train[-12:]"
      ],
      "execution_count": 118,
      "outputs": []
    },
    {
      "cell_type": "code",
      "metadata": {
        "id": "6opqVZUdflrO"
      },
      "source": [
        "last_train_batch =last_train_batch.reshape((1,n_input,n_features))"
      ],
      "execution_count": 119,
      "outputs": []
    },
    {
      "cell_type": "code",
      "metadata": {
        "colab": {
          "base_uri": "https://localhost:8080/"
        },
        "id": "7vnZVlNcfnhD",
        "outputId": "f09816c9-77bb-4a4e-9050-9c8dfbe0f54b"
      },
      "source": [
        "model.predict(last_train_batch)"
      ],
      "execution_count": 120,
      "outputs": [
        {
          "output_type": "execute_result",
          "data": {
            "text/plain": [
              "array([[0.99299634]], dtype=float32)"
            ]
          },
          "metadata": {},
          "execution_count": 120
        }
      ]
    },
    {
      "cell_type": "code",
      "metadata": {
        "colab": {
          "base_uri": "https://localhost:8080/"
        },
        "id": "pEaQ_IVkfpVa",
        "outputId": "f2f57f5a-3ab8-4e8c-949a-081a7ecfcef9"
      },
      "source": [
        "scaled_test[0]"
      ],
      "execution_count": 121,
      "outputs": [
        {
          "output_type": "execute_result",
          "data": {
            "text/plain": [
              "array([1.00517204])"
            ]
          },
          "metadata": {},
          "execution_count": 121
        }
      ]
    },
    {
      "cell_type": "code",
      "metadata": {
        "colab": {
          "base_uri": "https://localhost:8080/"
        },
        "id": "apeF4HyqftUz",
        "outputId": "626bfa34-a6b1-44c0-8205-6700f5af03c1"
      },
      "source": [
        "scaled_test[1]"
      ],
      "execution_count": 122,
      "outputs": [
        {
          "output_type": "execute_result",
          "data": {
            "text/plain": [
              "array([0.99165505])"
            ]
          },
          "metadata": {},
          "execution_count": 122
        }
      ]
    },
    {
      "cell_type": "code",
      "metadata": {
        "id": "BaL9IGjAfurs"
      },
      "source": [
        "test_predictions = []\n",
        "\n",
        "first_eval_batch = scaled_train[-n_input:]\n",
        "current_batch = first_eval_batch.reshape((1, n_input, n_features))\n",
        "\n",
        "for i in range(len(test)):\n",
        "    \n",
        "    # get the prediction value for the first batch\n",
        "    current_pred = model.predict(current_batch)[0]\n",
        "    \n",
        "    # append the prediction into the array\n",
        "    test_predictions.append(current_pred) \n",
        "    \n",
        "    # use the prediction to update the batch and remove the first value\n",
        "    current_batch = np.append(current_batch[:,1:,:],[[current_pred]],axis=1)"
      ],
      "execution_count": 123,
      "outputs": []
    },
    {
      "cell_type": "code",
      "metadata": {
        "colab": {
          "base_uri": "https://localhost:8080/"
        },
        "id": "Bq0nEDACfxrZ",
        "outputId": "c9616b4d-c18d-48ef-a345-e96ddcaaedb0"
      },
      "source": [
        "test_predictions[:10]"
      ],
      "execution_count": 124,
      "outputs": [
        {
          "output_type": "execute_result",
          "data": {
            "text/plain": [
              "[array([0.99299634], dtype=float32),\n",
              " array([1.0061067], dtype=float32),\n",
              " array([1.0183841], dtype=float32),\n",
              " array([1.0315396], dtype=float32),\n",
              " array([1.0453749], dtype=float32),\n",
              " array([1.0599171], dtype=float32),\n",
              " array([1.075239], dtype=float32),\n",
              " array([1.0914098], dtype=float32),\n",
              " array([1.1084406], dtype=float32),\n",
              " array([1.1264287], dtype=float32)]"
            ]
          },
          "metadata": {},
          "execution_count": 124
        }
      ]
    },
    {
      "cell_type": "code",
      "metadata": {
        "colab": {
          "base_uri": "https://localhost:8080/",
          "height": 238
        },
        "id": "PqGSOrSOf0GU",
        "outputId": "f097748c-7aab-44f3-f4c6-2ab520c4e45c"
      },
      "source": [
        "test.head()"
      ],
      "execution_count": 125,
      "outputs": [
        {
          "output_type": "execute_result",
          "data": {
            "text/html": [
              "<div>\n",
              "<style scoped>\n",
              "    .dataframe tbody tr th:only-of-type {\n",
              "        vertical-align: middle;\n",
              "    }\n",
              "\n",
              "    .dataframe tbody tr th {\n",
              "        vertical-align: top;\n",
              "    }\n",
              "\n",
              "    .dataframe thead th {\n",
              "        text-align: right;\n",
              "    }\n",
              "</style>\n",
              "<table border=\"1\" class=\"dataframe\">\n",
              "  <thead>\n",
              "    <tr style=\"text-align: right;\">\n",
              "      <th></th>\n",
              "      <th>high</th>\n",
              "      <th>Predictions</th>\n",
              "    </tr>\n",
              "    <tr>\n",
              "      <th>date</th>\n",
              "      <th></th>\n",
              "      <th></th>\n",
              "    </tr>\n",
              "  </thead>\n",
              "  <tbody>\n",
              "    <tr>\n",
              "      <th>2021-02-08 00:00:00+00:00</th>\n",
              "      <td>2123.5469</td>\n",
              "      <td>2117.211899</td>\n",
              "    </tr>\n",
              "    <tr>\n",
              "      <th>2021-02-09 00:00:00+00:00</th>\n",
              "      <td>2105.1300</td>\n",
              "      <td>2133.755458</td>\n",
              "    </tr>\n",
              "    <tr>\n",
              "      <th>2021-02-10 00:00:00+00:00</th>\n",
              "      <td>2108.3700</td>\n",
              "      <td>2151.256824</td>\n",
              "    </tr>\n",
              "    <tr>\n",
              "      <th>2021-02-11 00:00:00+00:00</th>\n",
              "      <td>2102.0300</td>\n",
              "      <td>2170.006733</td>\n",
              "    </tr>\n",
              "    <tr>\n",
              "      <th>2021-02-12 00:00:00+00:00</th>\n",
              "      <td>2108.8200</td>\n",
              "      <td>2189.993654</td>\n",
              "    </tr>\n",
              "  </tbody>\n",
              "</table>\n",
              "</div>"
            ],
            "text/plain": [
              "                                high  Predictions\n",
              "date                                             \n",
              "2021-02-08 00:00:00+00:00  2123.5469  2117.211899\n",
              "2021-02-09 00:00:00+00:00  2105.1300  2133.755458\n",
              "2021-02-10 00:00:00+00:00  2108.3700  2151.256824\n",
              "2021-02-11 00:00:00+00:00  2102.0300  2170.006733\n",
              "2021-02-12 00:00:00+00:00  2108.8200  2189.993654"
            ]
          },
          "metadata": {},
          "execution_count": 125
        }
      ]
    },
    {
      "cell_type": "code",
      "metadata": {
        "id": "D8FHgbdNf2Jf"
      },
      "source": [
        "true_predictions = scaler.inverse_transform(test_predictions)"
      ],
      "execution_count": 126,
      "outputs": []
    },
    {
      "cell_type": "code",
      "metadata": {
        "colab": {
          "base_uri": "https://localhost:8080/"
        },
        "id": "uSyFdyWvgCb2",
        "outputId": "290b26f1-5734-48fe-efea-4bd7e2c6dfc5"
      },
      "source": [
        "test['Predictions'] = true_predictions"
      ],
      "execution_count": 127,
      "outputs": [
        {
          "output_type": "stream",
          "name": "stderr",
          "text": [
            "/usr/local/lib/python3.7/dist-packages/ipykernel_launcher.py:1: SettingWithCopyWarning: \n",
            "A value is trying to be set on a copy of a slice from a DataFrame.\n",
            "Try using .loc[row_indexer,col_indexer] = value instead\n",
            "\n",
            "See the caveats in the documentation: https://pandas.pydata.org/pandas-docs/stable/user_guide/indexing.html#returning-a-view-versus-a-copy\n",
            "  \"\"\"Entry point for launching an IPython kernel.\n"
          ]
        }
      ]
    },
    {
      "cell_type": "code",
      "metadata": {
        "colab": {
          "base_uri": "https://localhost:8080/",
          "height": 275
        },
        "id": "MjFRc3fogEMR",
        "outputId": "a07958a0-c0f6-41cf-9279-8817a88524c5"
      },
      "source": [
        "test.plot(figsize=(14,5))"
      ],
      "execution_count": 128,
      "outputs": [
        {
          "output_type": "execute_result",
          "data": {
            "text/plain": [
              "<matplotlib.axes._subplots.AxesSubplot at 0x7fc56cdd1e10>"
            ]
          },
          "metadata": {},
          "execution_count": 128
        },
        {
          "output_type": "display_data",
          "data": {
            "image/png": "[encoded data removed]",
            "text/plain": [
              "<Figure size 1008x360 with 1 Axes>"
            ]
          },
          "metadata": {
            "needs_background": "light"
          }
        }
      ]
    },
    {
      "cell_type": "code",
      "metadata": {
        "colab": {
          "base_uri": "https://localhost:8080/"
        },
        "id": "Hl4cTGCGgLU-",
        "outputId": "446e8ca1-9a45-4725-aae7-64510fb3480b"
      },
      "source": [
        "from sklearn.metrics import mean_squared_error\n",
        "from math import sqrt\n",
        "rmse=sqrt(mean_squared_error(test['high'],test['Predictions']))\n",
        "print(rmse)"
      ],
      "execution_count": 129,
      "outputs": [
        {
          "output_type": "stream",
          "name": "stdout",
          "text": [
            "1712.0459423962905\n"
          ]
        }
      ]
    },
    {
      "cell_type": "code",
      "metadata": {
        "id": "f_zBjCfygQqt"
      },
      "source": [
        ""
      ],
      "execution_count": 109,
      "outputs": []
    }
  ]
}